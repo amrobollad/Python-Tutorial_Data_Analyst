{
 "cells": [
  {
   "cell_type": "markdown",
   "id": "4180f1aa-0611-48f9-8426-605d45d59610",
   "metadata": {},
   "source": [
    "# Automatic File Sorter in File Explorer"
   ]
  },
  {
   "cell_type": "code",
   "execution_count": 78,
   "id": "f587807e-5e22-4822-8208-e365beb83f4a",
   "metadata": {},
   "outputs": [],
   "source": [
    "import os"
   ]
  },
  {
   "cell_type": "code",
   "execution_count": 80,
   "id": "2acb73dd-55a2-4947-80e0-fb652e4e9e23",
   "metadata": {},
   "outputs": [],
   "source": [
    "import shutil"
   ]
  },
  {
   "cell_type": "code",
   "execution_count": 82,
   "id": "3035a129-a684-4a6c-805b-ed80b00ab897",
   "metadata": {},
   "outputs": [],
   "source": [
    "path= r\"E:/learning/FREE Data Analyst Bootcamp/Python/\""
   ]
  },
  {
   "cell_type": "code",
   "execution_count": 84,
   "id": "b8c63c94-6ad5-410d-9a54-8f46485cf83a",
   "metadata": {},
   "outputs": [],
   "source": [
    "file_name= os.listdir(path)"
   ]
  },
  {
   "cell_type": "code",
   "execution_count": 88,
   "id": "b42b618e-7bb9-4d83-bdc7-3c823e3b86ae",
   "metadata": {},
   "outputs": [
    {
     "name": "stdout",
     "output_type": "stream",
     "text": [
      "E:/learning/FREE Data Analyst Bootcamp/Python/csv files\n",
      "E:/learning/FREE Data Analyst Bootcamp/Python/image files\n",
      "E:/learning/FREE Data Analyst Bootcamp/Python/text files\n"
     ]
    }
   ],
   "source": [
    "folder_names = ['csv files','image files','text files']   # list of folders to create\n",
    "\n",
    "for loop in range(0,3):                     # run through the list\n",
    "    if not os.path.exists(path + folder_names[loop]):        # check whether the folder alraedy exists\n",
    "        print(path+folder_names[loop])               \n",
    "        os.makedirs(path+folder_names[loop])                      # if not then create the folder\n",
    "\n",
    "\n",
    "\n"
   ]
  },
  {
   "cell_type": "code",
   "execution_count": 98,
   "id": "bfb5bf60-334b-4648-aace-a50343709c9c",
   "metadata": {},
   "outputs": [],
   "source": [
    "\n",
    "for file in file_name:\n",
    "    if \".xlsx\" in file and not os.path.exists(path + \"csv files/\" + file):\n",
    "        shutil.move(path + file, path + \"csv files/\" + file)\n",
    "   "
   ]
  },
  {
   "cell_type": "code",
   "execution_count": 100,
   "id": "689867fd-e476-4ee3-9d8b-e4b7d4aa904f",
   "metadata": {},
   "outputs": [],
   "source": [
    "for file in file_name:\n",
    "    if \".txt\" in file and not os.path.exists(path + \"text files/\" + file):\n",
    "        shutil.move(path + file, path + \"text files/\" + file)"
   ]
  },
  {
   "cell_type": "code",
   "execution_count": 102,
   "id": "b7fdc217-e356-42ed-9b67-d6a244ca49a8",
   "metadata": {},
   "outputs": [],
   "source": [
    "for file in file_name:\n",
    "    if \".jpg\" in file and not os.path.exists(path + \"image files/\" + file):\n",
    "        shutil.move(path + file, path + \"image files/\" + file)"
   ]
  },
  {
   "cell_type": "code",
   "execution_count": null,
   "id": "b26260a0-4a59-4f30-961c-ab801dcb50f2",
   "metadata": {},
   "outputs": [],
   "source": []
  }
 ],
 "metadata": {
  "kernelspec": {
   "display_name": "Python 3 (ipykernel)",
   "language": "python",
   "name": "python3"
  },
  "language_info": {
   "codemirror_mode": {
    "name": "ipython",
    "version": 3
   },
   "file_extension": ".py",
   "mimetype": "text/x-python",
   "name": "python",
   "nbconvert_exporter": "python",
   "pygments_lexer": "ipython3",
   "version": "3.12.4"
  }
 },
 "nbformat": 4,
 "nbformat_minor": 5
}
