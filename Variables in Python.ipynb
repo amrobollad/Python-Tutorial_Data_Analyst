{
 "cells": [
  {
   "cell_type": "code",
   "execution_count": 1,
   "id": "be23bf63-b239-4fd6-b060-ef74ca266c2d",
   "metadata": {},
   "outputs": [
    {
     "name": "stdout",
     "output_type": "stream",
     "text": [
      "22\n"
     ]
    }
   ],
   "source": [
    "x = 22\n",
    "\n",
    "print(x)"
   ]
  },
  {
   "cell_type": "code",
   "execution_count": 3,
   "id": "22f8b20e-7be8-4aba-8ac3-ce458c61555e",
   "metadata": {},
   "outputs": [
    {
     "data": {
      "text/plain": [
       "int"
      ]
     },
     "execution_count": 3,
     "metadata": {},
     "output_type": "execute_result"
    }
   ],
   "source": [
    "type(x)"
   ]
  },
  {
   "cell_type": "code",
   "execution_count": 5,
   "id": "0d7969a9-98a0-4cd6-9f4d-45e3e1d76d29",
   "metadata": {},
   "outputs": [
    {
     "name": "stdout",
     "output_type": "stream",
     "text": [
      "Mint Chocolate Chip\n"
     ]
    }
   ],
   "source": [
    "y = 'Mint Chocolate Chip'\n",
    "\n",
    "print(y)"
   ]
  },
  {
   "cell_type": "code",
   "execution_count": 7,
   "id": "e95e4a55-bcb6-407a-a198-d09fdd2b97e2",
   "metadata": {},
   "outputs": [
    {
     "data": {
      "text/plain": [
       "str"
      ]
     },
     "execution_count": 7,
     "metadata": {},
     "output_type": "execute_result"
    }
   ],
   "source": [
    "type(y)"
   ]
  },
  {
   "cell_type": "code",
   "execution_count": 9,
   "id": "5750df3b-103c-455b-b89a-5708bfe0ccb2",
   "metadata": {},
   "outputs": [
    {
     "name": "stdout",
     "output_type": "stream",
     "text": [
      "Mint Chocolate Chip\n"
     ]
    }
   ],
   "source": [
    "# Case Sensitivity\n",
    "\n",
    "y = 'Chocolate'\n",
    "\n",
    "Y = 'Mint Chocolate Chip'\n",
    "\n",
    "print(Y)"
   ]
  },
  {
   "cell_type": "code",
   "execution_count": 11,
   "id": "982f117b-c2b4-4033-aaac-aa83da3fbf6e",
   "metadata": {},
   "outputs": [
    {
     "name": "stdout",
     "output_type": "stream",
     "text": [
      "Chocolate\n",
      "Vanilla\n",
      "Rocky Road\n"
     ]
    }
   ],
   "source": [
    "#Assign multiple values to multiple variables\n",
    "\n",
    "x,y,z = 'Chocolate', 'Vanilla', 'Rocky Road'\n",
    "\n",
    "print(x)\n",
    "print(y)\n",
    "print(z)"
   ]
  },
  {
   "cell_type": "code",
   "execution_count": 13,
   "id": "102f2fd4-4dcf-4cf3-b532-adad8463df35",
   "metadata": {},
   "outputs": [
    {
     "name": "stdout",
     "output_type": "stream",
     "text": [
      "Root Beer Float\n",
      "Root Beer Float\n",
      "Root Beer Float\n"
     ]
    }
   ],
   "source": [
    "#Assign one value to multiple variables\n",
    "\n",
    "x = y = z = 'Root Beer Float'\n",
    "\n",
    "print(x)\n",
    "print(y)\n",
    "print(z)"
   ]
  },
  {
   "cell_type": "code",
   "execution_count": 15,
   "id": "002bdd83-6e5f-4a1a-9db8-dbab34a34c53",
   "metadata": {},
   "outputs": [
    {
     "name": "stdout",
     "output_type": "stream",
     "text": [
      "Chocolate\n",
      "Vanilla\n",
      "Rocky Road\n"
     ]
    }
   ],
   "source": [
    "ice_cream = ['Chocolate', 'Vanilla', 'Rocky Road']\n",
    "\n",
    "x,y,z = ice_cream\n",
    "\n",
    "print(x)\n",
    "print(y)\n",
    "print(z)"
   ]
  },
  {
   "cell_type": "code",
   "execution_count": 17,
   "id": "8fb6bce2-27c2-494f-bb1b-13f64ea1ccb7",
   "metadata": {},
   "outputs": [],
   "source": [
    "# Camel Case\n",
    "\n",
    "#Test Variable Case\n",
    "\n",
    "testVariableCase = 'Vanilla Swirl'"
   ]
  },
  {
   "cell_type": "code",
   "execution_count": 19,
   "id": "8b1726e7-eb86-4e91-86ad-35604ab7f534",
   "metadata": {},
   "outputs": [],
   "source": [
    "# Pascal Case\n",
    "\n",
    "#Test Variable Case\n",
    "\n",
    "TestVariableCase = 'Vanilla Swirl'"
   ]
  },
  {
   "cell_type": "code",
   "execution_count": 21,
   "id": "6f09b5f7-f002-42cf-bfc1-51d38f1736bb",
   "metadata": {},
   "outputs": [],
   "source": [
    "# Snake Case\n",
    "\n",
    "#Test Variable Case\n",
    "\n",
    "test_variable_case = 'Vanilla Swirl'"
   ]
  },
  {
   "cell_type": "code",
   "execution_count": 23,
   "id": "a2299e8b-2c51-41f2-ad12-0e5f3745c3ca",
   "metadata": {},
   "outputs": [],
   "source": [
    "#Good ways to write variables\n",
    "\n",
    "testvar = 'Vanilla Swirl'\n",
    "test_var = 'Vanilla Swirl'\n",
    "_test_var = 'Vanilla Swirl'\n",
    "testVar = 'Vanilla Swirl'\n",
    "TestVar = 'Vanilla Swirl'\n",
    "testVar2 = 'Vanilla Swirl'"
   ]
  },
  {
   "cell_type": "code",
   "execution_count": null,
   "id": "e2e138b3-a951-4d8d-ad27-56c27d9004a1",
   "metadata": {},
   "outputs": [],
   "source": [
    "#Bad ways to write variables\n",
    "\n",
    "2testVar = 'Vanilla Swirl'\n",
    "test-Var2 = 'Vanilla Swirl'\n",
    "test Var2 = 'Vanilla Swirl'\n",
    "test,Var2 = 'Vanilla Swirl'"
   ]
  },
  {
   "cell_type": "code",
   "execution_count": 38,
   "id": "20d8920b-3d20-48ca-9b06-226e3a3356c9",
   "metadata": {},
   "outputs": [
    {
     "name": "stdout",
     "output_type": "stream",
     "text": [
      "Ice Cream is my favorite.\n"
     ]
    }
   ],
   "source": [
    "x = 'Ice Cream is my favorite' + '.'\n",
    "\n",
    "print(x)"
   ]
  },
  {
   "cell_type": "code",
   "execution_count": 27,
   "id": "577bb9f0-c916-4187-af4f-cb7429ce11cf",
   "metadata": {},
   "outputs": [
    {
     "ename": "TypeError",
     "evalue": "can only concatenate str (not \"int\") to str",
     "output_type": "error",
     "traceback": [
      "\u001b[1;31m---------------------------------------------------------------------------\u001b[0m",
      "\u001b[1;31mTypeError\u001b[0m                                 Traceback (most recent call last)",
      "Cell \u001b[1;32mIn[27], line 1\u001b[0m\n\u001b[1;32m----> 1\u001b[0m x \u001b[38;5;241m=\u001b[39m \u001b[38;5;124m'\u001b[39m\u001b[38;5;124mIce Cream is my favorite\u001b[39m\u001b[38;5;124m'\u001b[39m \u001b[38;5;241m+\u001b[39m \u001b[38;5;241m2\u001b[39m\n\u001b[0;32m      3\u001b[0m \u001b[38;5;28mprint\u001b[39m(x)\n",
      "\u001b[1;31mTypeError\u001b[0m: can only concatenate str (not \"int\") to str"
     ]
    }
   ],
   "source": [
    "x = 'Ice Cream is my favorite' + 2\n",
    "\n",
    "print(x)"
   ]
  },
  {
   "cell_type": "code",
   "execution_count": 29,
   "id": "18491936-71f6-4c0d-8b47-4ac5da1776b3",
   "metadata": {},
   "outputs": [
    {
     "name": "stdout",
     "output_type": "stream",
     "text": [
      "5\n"
     ]
    }
   ],
   "source": [
    "y = 3 + 2\n",
    "\n",
    "print(y)"
   ]
  },
  {
   "cell_type": "code",
   "execution_count": 31,
   "id": "7de51e99-5b70-49df-9642-69d22ee19481",
   "metadata": {},
   "outputs": [
    {
     "name": "stdout",
     "output_type": "stream",
     "text": [
      "Ice Cream is my favorite.\n"
     ]
    }
   ],
   "source": [
    "x = 'Ice Cream'\n",
    "y = ' is'\n",
    "z = ' my favorite.'\n",
    "\n",
    "print(x+y+z)"
   ]
  },
  {
   "cell_type": "code",
   "execution_count": 33,
   "id": "f00ed36a-f473-442b-acd4-1670da0f9e0b",
   "metadata": {},
   "outputs": [
    {
     "name": "stdout",
     "output_type": "stream",
     "text": [
      "6\n"
     ]
    }
   ],
   "source": [
    "x = 1\n",
    "y = 2\n",
    "z = 3\n",
    "\n",
    "print(x+y+z)"
   ]
  },
  {
   "cell_type": "code",
   "execution_count": 35,
   "id": "228d6225-30fc-4cc6-97c3-0200676dd05c",
   "metadata": {},
   "outputs": [
    {
     "name": "stdout",
     "output_type": "stream",
     "text": [
      "Ice Cream 2\n"
     ]
    }
   ],
   "source": [
    "x = 'Ice Cream'\n",
    "y = 2\n",
    "\n",
    "\n",
    "print(x,y)"
   ]
  },
  {
   "cell_type": "code",
   "execution_count": null,
   "id": "ddfd30ff-ae24-4ae0-a444-886b2974f9c8",
   "metadata": {},
   "outputs": [],
   "source": []
  }
 ],
 "metadata": {
  "kernelspec": {
   "display_name": "Python 3 (ipykernel)",
   "language": "python",
   "name": "python3"
  },
  "language_info": {
   "codemirror_mode": {
    "name": "ipython",
    "version": 3
   },
   "file_extension": ".py",
   "mimetype": "text/x-python",
   "name": "python",
   "nbconvert_exporter": "python",
   "pygments_lexer": "ipython3",
   "version": "3.12.2"
  }
 },
 "nbformat": 4,
 "nbformat_minor": 5
}
