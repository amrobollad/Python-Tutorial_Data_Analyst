{
 "cells": [
  {
   "cell_type": "code",
   "execution_count": 1,
   "id": "c0c10e21-4dc9-44b2-b4d0-2231e49df98c",
   "metadata": {},
   "outputs": [
    {
     "data": {
      "text/plain": [
       "int"
      ]
     },
     "execution_count": 1,
     "metadata": {},
     "output_type": "execute_result"
    }
   ],
   "source": [
    "type(-12 + 100)"
   ]
  },
  {
   "cell_type": "code",
   "execution_count": 3,
   "id": "cf3be118-7635-4bde-9a4e-b6de5012d995",
   "metadata": {},
   "outputs": [
    {
     "data": {
      "text/plain": [
       "float"
      ]
     },
     "execution_count": 3,
     "metadata": {},
     "output_type": "execute_result"
    }
   ],
   "source": [
    "type(12 + 10.25)"
   ]
  },
  {
   "cell_type": "code",
   "execution_count": 5,
   "id": "e2780f3a-940b-4131-9233-1f7b2606c0ff",
   "metadata": {},
   "outputs": [
    {
     "data": {
      "text/plain": [
       "complex"
      ]
     },
     "execution_count": 5,
     "metadata": {},
     "output_type": "execute_result"
    }
   ],
   "source": [
    "type(12 + 3j)"
   ]
  },
  {
   "cell_type": "code",
   "execution_count": 7,
   "id": "a7e785b0-30fe-47e1-a27b-70801c9b8d5e",
   "metadata": {},
   "outputs": [
    {
     "data": {
      "text/plain": [
       "bool"
      ]
     },
     "execution_count": 7,
     "metadata": {},
     "output_type": "execute_result"
    }
   ],
   "source": [
    "#Boolean\n",
    "\n",
    "type(1 > 5)"
   ]
  },
  {
   "cell_type": "code",
   "execution_count": 9,
   "id": "88dc76d4-4081-4333-aedb-a40cc31743a9",
   "metadata": {},
   "outputs": [
    {
     "data": {
      "text/plain": [
       "True"
      ]
     },
     "execution_count": 9,
     "metadata": {},
     "output_type": "execute_result"
    }
   ],
   "source": [
    "1 == 1"
   ]
  },
  {
   "cell_type": "code",
   "execution_count": 11,
   "id": "cb3871bb-a3a4-4915-a198-ba6d9b0d90af",
   "metadata": {},
   "outputs": [
    {
     "data": {
      "text/plain": [
       "'Single Quote'"
      ]
     },
     "execution_count": 11,
     "metadata": {},
     "output_type": "execute_result"
    }
   ],
   "source": [
    "# Strings\n",
    "\n",
    "'Single Quote'"
   ]
  },
  {
   "cell_type": "code",
   "execution_count": 13,
   "id": "5cbd8c22-b178-4da0-846c-9a59ea358495",
   "metadata": {},
   "outputs": [
    {
     "data": {
      "text/plain": [
       "'Double Quote'"
      ]
     },
     "execution_count": 13,
     "metadata": {},
     "output_type": "execute_result"
    }
   ],
   "source": [
    "\"Double Quote\""
   ]
  },
  {
   "cell_type": "code",
   "execution_count": 15,
   "id": "6e5380c5-6899-41b5-bbd2-fc5571e00140",
   "metadata": {},
   "outputs": [],
   "source": [
    "multiline = \"\"\"\n",
    "The ice cream vanquished\n",
    "my longing for sweets,\n",
    "upon this diet I look away,\n",
    "it no longer exists on this day.\n",
    "\n",
    "\"\"\""
   ]
  },
  {
   "cell_type": "code",
   "execution_count": 17,
   "id": "f50072ea-2ef8-4194-a291-a345f1f9f7e5",
   "metadata": {},
   "outputs": [
    {
     "name": "stdout",
     "output_type": "stream",
     "text": [
      "\n",
      "The ice cream vanquished\n",
      "my longing for sweets,\n",
      "upon this diet I look away,\n",
      "it no longer exists on this day.\n",
      "\n",
      "\n"
     ]
    }
   ],
   "source": [
    "print(multiline)"
   ]
  },
  {
   "cell_type": "code",
   "execution_count": null,
   "id": "549d4445-ca8b-4d3a-89d6-007f6ec6709b",
   "metadata": {},
   "outputs": [],
   "source": [
    "\"\"\"\n",
    "I've always wanted to eat a gallon of \"ice cream.\"\n",
    "\"\"\""
   ]
  },
  {
   "cell_type": "code",
   "execution_count": 21,
   "id": "e0caad2a-0f95-40a6-a846-9185d91c8b4f",
   "metadata": {},
   "outputs": [
    {
     "data": {
      "text/plain": [
       "str"
      ]
     },
     "execution_count": 21,
     "metadata": {},
     "output_type": "execute_result"
    }
   ],
   "source": [
    "type(multiline)"
   ]
  },
  {
   "cell_type": "code",
   "execution_count": 28,
   "id": "da79b2a8-22fb-4fb4-aa5b-88fefc9914e9",
   "metadata": {},
   "outputs": [
    {
     "name": "stdout",
     "output_type": "stream",
     "text": [
      "llo\n"
     ]
    }
   ],
   "source": [
    "a = 'Hello World!'\n",
    "print(a[2:5])"
   ]
  },
  {
   "cell_type": "code",
   "execution_count": 30,
   "id": "f40e0cbc-f8ef-427d-aa38-62fe04830d03",
   "metadata": {},
   "outputs": [
    {
     "data": {
      "text/plain": [
       "'Hello World!Hello World!Hello World!'"
      ]
     },
     "execution_count": 30,
     "metadata": {},
     "output_type": "execute_result"
    }
   ],
   "source": [
    "a*3"
   ]
  },
  {
   "cell_type": "code",
   "execution_count": 32,
   "id": "3f2ea0c9-62be-45c4-bc96-cb1a88cc7b9d",
   "metadata": {},
   "outputs": [
    {
     "data": {
      "text/plain": [
       "'Hello World!Hello World!'"
      ]
     },
     "execution_count": 32,
     "metadata": {},
     "output_type": "execute_result"
    }
   ],
   "source": [
    "a+a"
   ]
  },
  {
   "cell_type": "code",
   "execution_count": 34,
   "id": "c5f6879e-541c-40d4-bdf7-830c19070f97",
   "metadata": {},
   "outputs": [
    {
     "data": {
      "text/plain": [
       "[1, 2, 3]"
      ]
     },
     "execution_count": 34,
     "metadata": {},
     "output_type": "execute_result"
    }
   ],
   "source": [
    "# list\n",
    "\n",
    "[1,2,3]"
   ]
  },
  {
   "cell_type": "code",
   "execution_count": 10,
   "id": "94ac5ce0-c2f1-495e-a9f3-4d208a02c259",
   "metadata": {},
   "outputs": [
    {
     "data": {
      "text/plain": [
       "['Cookie Dough', 'Strawberry', 'Chocolate']"
      ]
     },
     "execution_count": 10,
     "metadata": {},
     "output_type": "execute_result"
    }
   ],
   "source": [
    "['Cookie Dough','Strawberry','Chocolate']"
   ]
  },
  {
   "cell_type": "code",
   "execution_count": 12,
   "id": "feb58ca7-364f-40a6-81f1-0d5a863129e5",
   "metadata": {},
   "outputs": [
    {
     "data": {
      "text/plain": [
       "['Vanilla', 3, ['Scoops', 'Spoon'], True]"
      ]
     },
     "execution_count": 12,
     "metadata": {},
     "output_type": "execute_result"
    }
   ],
   "source": [
    "['Vanilla', 3, ['Scoops','Spoon'],True]"
   ]
  },
  {
   "cell_type": "code",
   "execution_count": 14,
   "id": "7e89ce53-e2f2-4738-a0fe-7053f13d8800",
   "metadata": {},
   "outputs": [
    {
     "data": {
      "text/plain": [
       "['Cookie Dough', 'Strawberry', 'Chocolate', 'Salted Caramel']"
      ]
     },
     "execution_count": 14,
     "metadata": {},
     "output_type": "execute_result"
    }
   ],
   "source": [
    "ice_cream = ['Cookie Dough','Strawberry','Chocolate']\n",
    "ice_cream.append('Salted Caramel')\n",
    "ice_cream"
   ]
  },
  {
   "cell_type": "code",
   "execution_count": 49,
   "id": "47352aa7-b2ba-4001-b6ec-e3e98e8c0137",
   "metadata": {},
   "outputs": [
    {
     "data": {
      "text/plain": [
       "['Butter Pecan', 'Strawberry', 'Chocolate', 'Salted Caramel', 'Salted Caramel']"
      ]
     },
     "execution_count": 49,
     "metadata": {},
     "output_type": "execute_result"
    }
   ],
   "source": [
    "ice_cream[0] = 'Butter Pecan'\n",
    "\n",
    "ice_cream"
   ]
  },
  {
   "cell_type": "code",
   "execution_count": 51,
   "id": "800eb4fd-3064-412c-a11a-31040e6a1ab5",
   "metadata": {},
   "outputs": [],
   "source": [
    "nest_list = ['Vanilla', 3, ['Scoops','Spoon'],True]"
   ]
  },
  {
   "cell_type": "code",
   "execution_count": 53,
   "id": "04abe275-7d64-446a-b1bf-5a960800f94c",
   "metadata": {},
   "outputs": [
    {
     "data": {
      "text/plain": [
       "'Spoon'"
      ]
     },
     "execution_count": 53,
     "metadata": {},
     "output_type": "execute_result"
    }
   ],
   "source": [
    "nest_list[2][1]"
   ]
  },
  {
   "cell_type": "code",
   "execution_count": 55,
   "id": "2cb0cb27-46a7-4915-aa9e-63bfbc8f7953",
   "metadata": {},
   "outputs": [],
   "source": [
    "#tuple\n",
    "\n",
    "tuple_scoops = (1,2,3,2,1)"
   ]
  },
  {
   "cell_type": "code",
   "execution_count": 57,
   "id": "345ce6ae-9488-4437-8cf3-aac6060a8af2",
   "metadata": {},
   "outputs": [
    {
     "data": {
      "text/plain": [
       "tuple"
      ]
     },
     "execution_count": 57,
     "metadata": {},
     "output_type": "execute_result"
    }
   ],
   "source": [
    "type(tuple_scoops)"
   ]
  },
  {
   "cell_type": "code",
   "execution_count": 59,
   "id": "40037369-ac40-436d-bce0-aec9826b31e3",
   "metadata": {},
   "outputs": [
    {
     "data": {
      "text/plain": [
       "1"
      ]
     },
     "execution_count": 59,
     "metadata": {},
     "output_type": "execute_result"
    }
   ],
   "source": [
    "tuple_scoops[0]"
   ]
  },
  {
   "cell_type": "code",
   "execution_count": 61,
   "id": "ecd8af74-4612-49fe-809d-fd22cf102c30",
   "metadata": {},
   "outputs": [
    {
     "ename": "AttributeError",
     "evalue": "'tuple' object has no attribute 'append'",
     "output_type": "error",
     "traceback": [
      "\u001b[1;31m---------------------------------------------------------------------------\u001b[0m",
      "\u001b[1;31mAttributeError\u001b[0m                            Traceback (most recent call last)",
      "Cell \u001b[1;32mIn[61], line 1\u001b[0m\n\u001b[1;32m----> 1\u001b[0m tuple_scoops\u001b[38;5;241m.\u001b[39mappend(\u001b[38;5;241m3\u001b[39m)\n",
      "\u001b[1;31mAttributeError\u001b[0m: 'tuple' object has no attribute 'append'"
     ]
    }
   ],
   "source": [
    "tuple_scoops.append(3)"
   ]
  },
  {
   "cell_type": "code",
   "execution_count": 67,
   "id": "e076a445-5a2f-4c15-8229-9ff5ff9b5925",
   "metadata": {},
   "outputs": [],
   "source": [
    "# sets\n",
    "\n",
    "\n",
    "daily_pints = {1,2,3}"
   ]
  },
  {
   "cell_type": "code",
   "execution_count": 69,
   "id": "1dfbd87d-f24d-4cfe-8234-03690a42e3bb",
   "metadata": {},
   "outputs": [
    {
     "data": {
      "text/plain": [
       "set"
      ]
     },
     "execution_count": 69,
     "metadata": {},
     "output_type": "execute_result"
    }
   ],
   "source": [
    "type(daily_pints)"
   ]
  },
  {
   "cell_type": "code",
   "execution_count": 71,
   "id": "1941dd63-1f11-4234-bf4b-91c7d9b40908",
   "metadata": {},
   "outputs": [
    {
     "name": "stdout",
     "output_type": "stream",
     "text": [
      "{1, 2, 3}\n"
     ]
    }
   ],
   "source": [
    "print(daily_pints)"
   ]
  },
  {
   "cell_type": "code",
   "execution_count": 73,
   "id": "9ceeb94d-a3b0-4e39-80d1-bfe7a4cff657",
   "metadata": {},
   "outputs": [
    {
     "name": "stdout",
     "output_type": "stream",
     "text": [
      "{1, 2, 3, 4, 5, 6, 31}\n"
     ]
    }
   ],
   "source": [
    "daily_pints_log = {1,2,31,2,3,4,1,2,5,6,3,2}\n",
    "\n",
    "print(daily_pints_log)"
   ]
  },
  {
   "cell_type": "code",
   "execution_count": 79,
   "id": "b079bea0-ff2f-4934-b5ee-d7e4637c4d78",
   "metadata": {},
   "outputs": [],
   "source": [
    "wifes_daily_pints_log = {1,3,5,7,3,24,5,7,3,2,0}"
   ]
  },
  {
   "cell_type": "code",
   "execution_count": 81,
   "id": "8c2e7f2f-d162-42ca-96c5-bd22cb88ebfb",
   "metadata": {},
   "outputs": [
    {
     "name": "stdout",
     "output_type": "stream",
     "text": [
      "{0, 1, 2, 3, 4, 5, 6, 7, 24, 31}\n"
     ]
    }
   ],
   "source": [
    "print(daily_pints_log | wifes_daily_pints_log)"
   ]
  },
  {
   "cell_type": "code",
   "execution_count": 83,
   "id": "508f7f31-4233-4329-85a7-6b79bd370d7d",
   "metadata": {},
   "outputs": [
    {
     "name": "stdout",
     "output_type": "stream",
     "text": [
      "{1, 2, 3, 5}\n"
     ]
    }
   ],
   "source": [
    "print(daily_pints_log & wifes_daily_pints_log)"
   ]
  },
  {
   "cell_type": "code",
   "execution_count": 85,
   "id": "1d5197f3-5981-4f16-92d6-bdc59a423108",
   "metadata": {},
   "outputs": [
    {
     "name": "stdout",
     "output_type": "stream",
     "text": [
      "{0, 24, 7}\n"
     ]
    }
   ],
   "source": [
    "print(wifes_daily_pints_log - daily_pints_log )"
   ]
  },
  {
   "cell_type": "code",
   "execution_count": 87,
   "id": "a75e9c42-2e9c-49a5-bc63-314051ae71a2",
   "metadata": {},
   "outputs": [
    {
     "name": "stdout",
     "output_type": "stream",
     "text": [
      "{0, 4, 6, 7, 24, 31}\n"
     ]
    }
   ],
   "source": [
    "print(wifes_daily_pints_log ^ daily_pints_log )"
   ]
  },
  {
   "cell_type": "code",
   "execution_count": 91,
   "id": "bc51805c-edba-4f4c-ae3d-0ca641e75068",
   "metadata": {},
   "outputs": [],
   "source": [
    "# dictionaries\n",
    "# Key/Value Pair\n",
    "\n",
    "dict_cream = {'name': 'Alex Freberg', 'weekly intake': 5, 'favorite ice creams': ['MCC','Chocolate']}"
   ]
  },
  {
   "cell_type": "code",
   "execution_count": 93,
   "id": "2ca1da64-11e6-4213-b0b3-d12d8ff5923e",
   "metadata": {},
   "outputs": [
    {
     "data": {
      "text/plain": [
       "dict"
      ]
     },
     "execution_count": 93,
     "metadata": {},
     "output_type": "execute_result"
    }
   ],
   "source": [
    "type(dict_cream)"
   ]
  },
  {
   "cell_type": "code",
   "execution_count": 95,
   "id": "44d7640c-cc2e-46f4-8866-3ce761b3b041",
   "metadata": {},
   "outputs": [
    {
     "name": "stdout",
     "output_type": "stream",
     "text": [
      "{'name': 'Alex Freberg', 'weekly intake': 5, 'favorite ice creams': ['MCC', 'Chocolate']}\n"
     ]
    }
   ],
   "source": [
    "print(dict_cream)"
   ]
  },
  {
   "cell_type": "code",
   "execution_count": 97,
   "id": "711a006c-f66e-41b2-bcb9-80d7fe68287f",
   "metadata": {},
   "outputs": [
    {
     "data": {
      "text/plain": [
       "dict_values(['Alex Freberg', 5, ['MCC', 'Chocolate']])"
      ]
     },
     "execution_count": 97,
     "metadata": {},
     "output_type": "execute_result"
    }
   ],
   "source": [
    "dict_cream.values()"
   ]
  },
  {
   "cell_type": "code",
   "execution_count": 99,
   "id": "1c7ab052-d975-4c68-a176-8a4fb6f94e41",
   "metadata": {},
   "outputs": [
    {
     "data": {
      "text/plain": [
       "dict_keys(['name', 'weekly intake', 'favorite ice creams'])"
      ]
     },
     "execution_count": 99,
     "metadata": {},
     "output_type": "execute_result"
    }
   ],
   "source": [
    "dict_cream.keys()"
   ]
  },
  {
   "cell_type": "code",
   "execution_count": 101,
   "id": "7f50563b-2079-44ee-a029-b17571c5b6b4",
   "metadata": {},
   "outputs": [
    {
     "data": {
      "text/plain": [
       "dict_items([('name', 'Alex Freberg'), ('weekly intake', 5), ('favorite ice creams', ['MCC', 'Chocolate'])])"
      ]
     },
     "execution_count": 101,
     "metadata": {},
     "output_type": "execute_result"
    }
   ],
   "source": [
    "dict_cream.items()"
   ]
  },
  {
   "cell_type": "code",
   "execution_count": 103,
   "id": "25bc1dba-3f5d-481f-a088-6c11cc4e9c2b",
   "metadata": {},
   "outputs": [
    {
     "data": {
      "text/plain": [
       "'Alex Freberg'"
      ]
     },
     "execution_count": 103,
     "metadata": {},
     "output_type": "execute_result"
    }
   ],
   "source": [
    "dict_cream['name']"
   ]
  },
  {
   "cell_type": "code",
   "execution_count": 105,
   "id": "c189897d-ebce-4f78-b402-f85487f56dfe",
   "metadata": {},
   "outputs": [
    {
     "name": "stdout",
     "output_type": "stream",
     "text": [
      "{'name': 'Christine Freberg', 'weekly intake': 5, 'favorite ice creams': ['MCC', 'Chocolate']}\n"
     ]
    }
   ],
   "source": [
    "dict_cream['name'] = 'Christine Freberg'\n",
    "\n",
    "print(dict_cream)"
   ]
  },
  {
   "cell_type": "code",
   "execution_count": 107,
   "id": "199384ed-4843-448d-9305-822c7c0172bf",
   "metadata": {},
   "outputs": [
    {
     "name": "stdout",
     "output_type": "stream",
     "text": [
      "{'name': 'Christine Freberg', 'weekly intake': 10, 'favorite ice creams': ['MCC', 'Chocolate'], 'weight': 300}\n"
     ]
    }
   ],
   "source": [
    "dict_cream.update({'name': 'Christine Freberg', 'weekly intake': 10, 'weight': 300})\n",
    "\n",
    "print(dict_cream)"
   ]
  },
  {
   "cell_type": "code",
   "execution_count": 109,
   "id": "28a5df8f-f0dc-429b-949d-a3e158adbb51",
   "metadata": {},
   "outputs": [
    {
     "name": "stdout",
     "output_type": "stream",
     "text": [
      "{'name': 'Christine Freberg', 'weekly intake': 10, 'favorite ice creams': ['MCC', 'Chocolate']}\n"
     ]
    }
   ],
   "source": [
    "del dict_cream['weight']\n",
    "\n",
    "print(dict_cream)"
   ]
  },
  {
   "cell_type": "code",
   "execution_count": null,
   "id": "d5e64544-0233-42cb-bc47-9909a04939ce",
   "metadata": {},
   "outputs": [],
   "source": []
  }
 ],
 "metadata": {
  "kernelspec": {
   "display_name": "Python 3 (ipykernel)",
   "language": "python",
   "name": "python3"
  },
  "language_info": {
   "codemirror_mode": {
    "name": "ipython",
    "version": 3
   },
   "file_extension": ".py",
   "mimetype": "text/x-python",
   "name": "python",
   "nbconvert_exporter": "python",
   "pygments_lexer": "ipython3",
   "version": "3.12.4"
  }
 },
 "nbformat": 4,
 "nbformat_minor": 5
}
